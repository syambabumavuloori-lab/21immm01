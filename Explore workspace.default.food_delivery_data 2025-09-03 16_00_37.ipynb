{
 "cells": [
  {
   "cell_type": "code",
   "execution_count": 0,
   "metadata": {
    "application/vnd.databricks.v1+cell": {
     "cellMetadata": {
      "byteLimit": 2048000,
      "implicitDf": true,
      "rowLimit": 10000
     },
     "inputWidgets": {},
     "nuid": "980e471f-41ca-41c0-a7bf-3c9fdcac9104",
     "showTitle": false,
     "tableResultSettingsMap": {},
     "title": ""
    }
   },
   "outputs": [
    {
     "output_type": "display_data",
     "data": {
      "text/html": [
       "<style scoped>\n",
       "  .table-result-container {\n",
       "    max-height: 300px;\n",
       "    overflow: auto;\n",
       "  }\n",
       "  table, th, td {\n",
       "    border: 1px solid black;\n",
       "    border-collapse: collapse;\n",
       "  }\n",
       "  th, td {\n",
       "    padding: 5px;\n",
       "  }\n",
       "  th {\n",
       "    text-align: left;\n",
       "  }\n",
       "</style><div class='table-result-container'><table class='table-result'><thead style='background-color: white'><tr><th>order_id</th><th>customer_id</th><th>customer_name</th><th>restaurant_id</th><th>restaurant_name</th><th>delivery_partner_id</th><th>delivery_partner_name</th><th>order_value</th><th>delivery_time</th><th>order_status</th><th>timestamp</th></tr></thead><tbody><tr><td>101</td><td>C014</td><td>Priya</td><td>R003</td><td>Subway</td><td>D005</td><td>Manoj</td><td>374.36</td><td>51</td><td>Delivered</td><td>2025-09-02T12:44:00.000Z</td></tr><tr><td>102</td><td>C014</td><td>Pooja</td><td>R001</td><td>Burger King</td><td>D003</td><td>Vivek</td><td>423.29</td><td>51</td><td>Delivered</td><td>2025-09-02T12:05:00.000Z</td></tr><tr><td>103</td><td>C009</td><td>Vikas</td><td>R004</td><td>McDonald's</td><td>D002</td><td>Ramesh</td><td>709.47</td><td>0</td><td>Cancelled</td><td>2025-09-03T05:20:00.000Z</td></tr><tr><td>104</td><td>C019</td><td>Rahul</td><td>R005</td><td>Subway</td><td>D005</td><td>Ankit</td><td>487.45</td><td>40</td><td>Delivered</td><td>2025-09-02T13:21:00.000Z</td></tr><tr><td>105</td><td>C001</td><td>Priya</td><td>R002</td><td>McDonald's</td><td>D003</td><td>Vivek</td><td>166.87</td><td>38</td><td>Delivered</td><td>2025-09-02T01:38:00.000Z</td></tr><tr><td>106</td><td>C005</td><td>Vikas</td><td>R003</td><td>Domino's Pizza</td><td>D003</td><td>Ramesh</td><td>257.59</td><td>59</td><td>Delivered</td><td>2025-09-01T23:20:00.000Z</td></tr><tr><td>107</td><td>C005</td><td>Vikas</td><td>R004</td><td>McDonald's</td><td>D001</td><td>Suresh</td><td>905.86</td><td>22</td><td>Delivered</td><td>2025-09-01T14:25:00.000Z</td></tr><tr><td>108</td><td>C012</td><td>Akash</td><td>R003</td><td>KFC</td><td>D006</td><td>Manoj</td><td>783.12</td><td>57</td><td>Delivered</td><td>2025-09-02T21:25:00.000Z</td></tr><tr><td>109</td><td>C014</td><td>Sneha</td><td>R003</td><td>Subway</td><td>D003</td><td>Manoj</td><td>778.68</td><td>27</td><td>Delivered</td><td>2025-09-03T01:48:00.000Z</td></tr><tr><td>110</td><td>C007</td><td>Akash</td><td>R004</td><td>Burger King</td><td>D006</td><td>Suresh</td><td>202.94</td><td>56</td><td>Delivered</td><td>2025-09-03T09:13:00.000Z</td></tr><tr><td>111</td><td>C009</td><td>Meera</td><td>R002</td><td>Domino's Pizza</td><td>D002</td><td>Suresh</td><td>485.89</td><td>58</td><td>Delivered</td><td>2025-09-01T16:08:00.000Z</td></tr><tr><td>112</td><td>C001</td><td>Rahul</td><td>R001</td><td>McDonald's</td><td>D001</td><td>Deepak</td><td>341.67</td><td>25</td><td>Delivered</td><td>2025-09-02T05:38:00.000Z</td></tr><tr><td>113</td><td>C011</td><td>Ravi</td><td>R004</td><td>McDonald's</td><td>D002</td><td>Manoj</td><td>985.03</td><td>49</td><td>Delivered</td><td>2025-09-01T15:02:00.000Z</td></tr><tr><td>114</td><td>C001</td><td>Ravi</td><td>R002</td><td>McDonald's</td><td>D005</td><td>Suresh</td><td>819.85</td><td>32</td><td>Delivered</td><td>2025-09-03T06:18:00.000Z</td></tr><tr><td>115</td><td>C006</td><td>Akash</td><td>R003</td><td>McDonald's</td><td>D006</td><td>Deepak</td><td>333.68</td><td>50</td><td>Delivered</td><td>2025-09-03T01:12:00.000Z</td></tr><tr><td>116</td><td>C012</td><td>Meera</td><td>R004</td><td>KFC</td><td>D002</td><td>Deepak</td><td>507.39</td><td>29</td><td>Delivered</td><td>2025-09-01T11:58:00.000Z</td></tr><tr><td>117</td><td>C015</td><td>Meera</td><td>R001</td><td>McDonald's</td><td>D005</td><td>Suresh</td><td>494.22</td><td>22</td><td>Delivered</td><td>2025-09-01T13:12:00.000Z</td></tr><tr><td>118</td><td>C008</td><td>Sneha</td><td>R005</td><td>Domino's Pizza</td><td>D004</td><td>Deepak</td><td>297.73</td><td>31</td><td>Delivered</td><td>2025-09-03T06:30:00.000Z</td></tr><tr><td>119</td><td>C010</td><td>Kiran</td><td>R004</td><td>KFC</td><td>D001</td><td>Ankit</td><td>489.02</td><td>44</td><td>Delivered</td><td>2025-09-02T16:06:00.000Z</td></tr><tr><td>120</td><td>C010</td><td>Ananya</td><td>R003</td><td>McDonald's</td><td>D005</td><td>Deepak</td><td>663.98</td><td>46</td><td>Delivered</td><td>2025-09-02T16:43:00.000Z</td></tr><tr><td>121</td><td>C007</td><td>Priya</td><td>R002</td><td>McDonald's</td><td>D002</td><td>Vivek</td><td>662.4</td><td>52</td><td>Delivered</td><td>2025-09-01T11:41:00.000Z</td></tr><tr><td>122</td><td>C014</td><td>Kiran</td><td>R003</td><td>KFC</td><td>D002</td><td>Ramesh</td><td>842.12</td><td>43</td><td>Delivered</td><td>2025-09-01T10:45:00.000Z</td></tr><tr><td>123</td><td>C012</td><td>Meera</td><td>R003</td><td>Domino's Pizza</td><td>D002</td><td>Ramesh</td><td>593.46</td><td>20</td><td>Delivered</td><td>2025-09-01T18:14:00.000Z</td></tr><tr><td>124</td><td>C002</td><td>Sneha</td><td>R002</td><td>Domino's Pizza</td><td>D003</td><td>Suresh</td><td>965.29</td><td>39</td><td>Delivered</td><td>2025-09-01T12:51:00.000Z</td></tr><tr><td>125</td><td>C014</td><td>Ananya</td><td>R005</td><td>KFC</td><td>D004</td><td>Deepak</td><td>996.88</td><td>22</td><td>Delivered</td><td>2025-09-02T19:43:00.000Z</td></tr><tr><td>126</td><td>C002</td><td>Ravi</td><td>R005</td><td>Domino's Pizza</td><td>D005</td><td>Ankit</td><td>234.94</td><td>41</td><td>Delivered</td><td>2025-09-03T00:11:00.000Z</td></tr><tr><td>127</td><td>C013</td><td>Rahul</td><td>R001</td><td>Subway</td><td>D001</td><td>Deepak</td><td>227.31</td><td>43</td><td>Delivered</td><td>2025-09-02T09:37:00.000Z</td></tr><tr><td>128</td><td>C005</td><td>Sneha</td><td>R004</td><td>McDonald's</td><td>D004</td><td>Vivek</td><td>788.62</td><td>31</td><td>Delivered</td><td>2025-09-03T04:44:00.000Z</td></tr><tr><td>129</td><td>C015</td><td>Akash</td><td>R002</td><td>Subway</td><td>D001</td><td>Vivek</td><td>864.25</td><td>35</td><td>Delivered</td><td>2025-09-02T13:56:00.000Z</td></tr><tr><td>130</td><td>C014</td><td>Vikas</td><td>R003</td><td>McDonald's</td><td>D005</td><td>Vivek</td><td>390.95</td><td>41</td><td>Delivered</td><td>2025-09-02T03:46:00.000Z</td></tr><tr><td>131</td><td>C009</td><td>Vikas</td><td>R002</td><td>Subway</td><td>D004</td><td>Vivek</td><td>199.45</td><td>55</td><td>Delivered</td><td>2025-09-03T06:08:00.000Z</td></tr><tr><td>132</td><td>C008</td><td>Sneha</td><td>R001</td><td>Subway</td><td>D006</td><td>Ankit</td><td>898.96</td><td>0</td><td>Cancelled</td><td>2025-09-03T10:42:00.000Z</td></tr><tr><td>133</td><td>C003</td><td>Ravi</td><td>R005</td><td>Burger King</td><td>D004</td><td>Deepak</td><td>763.96</td><td>48</td><td>Delivered</td><td>2025-09-02T18:34:00.000Z</td></tr><tr><td>134</td><td>C011</td><td>Vikas</td><td>R001</td><td>Burger King</td><td>D003</td><td>Deepak</td><td>841.81</td><td>47</td><td>Delivered</td><td>2025-09-03T11:38:00.000Z</td></tr><tr><td>135</td><td>C018</td><td>Akash</td><td>R005</td><td>Burger King</td><td>D005</td><td>Ankit</td><td>185.1</td><td>50</td><td>Delivered</td><td>2025-09-02T14:17:00.000Z</td></tr><tr><td>136</td><td>C020</td><td>Ravi</td><td>R001</td><td>Subway</td><td>D004</td><td>Manoj</td><td>689.03</td><td>44</td><td>Delivered</td><td>2025-09-01T22:04:00.000Z</td></tr><tr><td>137</td><td>C020</td><td>Vikas</td><td>R005</td><td>KFC</td><td>D004</td><td>Manoj</td><td>474.84</td><td>51</td><td>Delivered</td><td>2025-09-02T03:25:00.000Z</td></tr><tr><td>138</td><td>C013</td><td>Ananya</td><td>R005</td><td>Subway</td><td>D003</td><td>Ramesh</td><td>882.39</td><td>46</td><td>Delivered</td><td>2025-09-03T03:08:00.000Z</td></tr><tr><td>139</td><td>C019</td><td>Priya</td><td>R005</td><td>KFC</td><td>D004</td><td>Ankit</td><td>534.51</td><td>46</td><td>Delivered</td><td>2025-09-02T13:26:00.000Z</td></tr><tr><td>140</td><td>C019</td><td>Rahul</td><td>R003</td><td>Subway</td><td>D004</td><td>Manoj</td><td>393.02</td><td>56</td><td>Delivered</td><td>2025-09-01T17:22:00.000Z</td></tr><tr><td>141</td><td>C014</td><td>Ananya</td><td>R004</td><td>Domino's Pizza</td><td>D002</td><td>Suresh</td><td>369.01</td><td>57</td><td>Delivered</td><td>2025-09-02T07:54:00.000Z</td></tr><tr><td>142</td><td>C019</td><td>Kiran</td><td>R004</td><td>McDonald's</td><td>D003</td><td>Suresh</td><td>622.72</td><td>57</td><td>Delivered</td><td>2025-09-03T10:19:00.000Z</td></tr><tr><td>143</td><td>C020</td><td>Akash</td><td>R002</td><td>McDonald's</td><td>D002</td><td>Ramesh</td><td>722.91</td><td>0</td><td>Cancelled</td><td>2025-09-03T07:57:00.000Z</td></tr><tr><td>144</td><td>C003</td><td>Ravi</td><td>R005</td><td>Domino's Pizza</td><td>D004</td><td>Suresh</td><td>369.05</td><td>55</td><td>Delivered</td><td>2025-09-02T19:39:00.000Z</td></tr><tr><td>145</td><td>C001</td><td>Pooja</td><td>R005</td><td>Domino's Pizza</td><td>D002</td><td>Deepak</td><td>268.19</td><td>45</td><td>Delivered</td><td>2025-09-03T02:23:00.000Z</td></tr><tr><td>146</td><td>C004</td><td>Sneha</td><td>R002</td><td>KFC</td><td>D006</td><td>Ramesh</td><td>775.71</td><td>36</td><td>Delivered</td><td>2025-09-02T23:08:00.000Z</td></tr><tr><td>147</td><td>C013</td><td>Akash</td><td>R003</td><td>Subway</td><td>D004</td><td>Ankit</td><td>991.47</td><td>31</td><td>Delivered</td><td>2025-09-03T00:49:00.000Z</td></tr><tr><td>148</td><td>C010</td><td>Meera</td><td>R004</td><td>Burger King</td><td>D006</td><td>Ankit</td><td>372.01</td><td>26</td><td>Delivered</td><td>2025-09-01T15:44:00.000Z</td></tr><tr><td>149</td><td>C009</td><td>Vikas</td><td>R004</td><td>Subway</td><td>D005</td><td>Deepak</td><td>323.79</td><td>42</td><td>Delivered</td><td>2025-09-02T09:31:00.000Z</td></tr><tr><td>150</td><td>C006</td><td>Meera</td><td>R004</td><td>Burger King</td><td>D006</td><td>Manoj</td><td>155.22</td><td>59</td><td>Delivered</td><td>2025-09-03T04:22:00.000Z</td></tr></tbody></table></div>"
      ]
     },
     "metadata": {
      "application/vnd.databricks.v1+output": {
       "addedWidgets": {},
       "aggData": [],
       "aggError": "",
       "aggOverflow": false,
       "aggSchema": [],
       "aggSeriesLimitReached": false,
       "aggType": "",
       "arguments": {},
       "columnCustomDisplayInfos": {},
       "data": [
        [
         101,
         "C014",
         "Priya",
         "R003",
         "Subway",
         "D005",
         "Manoj",
         374.36,
         51,
         "Delivered",
         "2025-09-02T12:44:00.000Z"
        ],
        [
         102,
         "C014",
         "Pooja",
         "R001",
         "Burger King",
         "D003",
         "Vivek",
         423.29,
         51,
         "Delivered",
         "2025-09-02T12:05:00.000Z"
        ],
        [
         103,
         "C009",
         "Vikas",
         "R004",
         "McDonald's",
         "D002",
         "Ramesh",
         709.47,
         0,
         "Cancelled",
         "2025-09-03T05:20:00.000Z"
        ],
        [
         104,
         "C019",
         "Rahul",
         "R005",
         "Subway",
         "D005",
         "Ankit",
         487.45,
         40,
         "Delivered",
         "2025-09-02T13:21:00.000Z"
        ],
        [
         105,
         "C001",
         "Priya",
         "R002",
         "McDonald's",
         "D003",
         "Vivek",
         166.87,
         38,
         "Delivered",
         "2025-09-02T01:38:00.000Z"
        ],
        [
         106,
         "C005",
         "Vikas",
         "R003",
         "Domino's Pizza",
         "D003",
         "Ramesh",
         257.59,
         59,
         "Delivered",
         "2025-09-01T23:20:00.000Z"
        ],
        [
         107,
         "C005",
         "Vikas",
         "R004",
         "McDonald's",
         "D001",
         "Suresh",
         905.86,
         22,
         "Delivered",
         "2025-09-01T14:25:00.000Z"
        ],
        [
         108,
         "C012",
         "Akash",
         "R003",
         "KFC",
         "D006",
         "Manoj",
         783.12,
         57,
         "Delivered",
         "2025-09-02T21:25:00.000Z"
        ],
        [
         109,
         "C014",
         "Sneha",
         "R003",
         "Subway",
         "D003",
         "Manoj",
         778.68,
         27,
         "Delivered",
         "2025-09-03T01:48:00.000Z"
        ],
        [
         110,
         "C007",
         "Akash",
         "R004",
         "Burger King",
         "D006",
         "Suresh",
         202.94,
         56,
         "Delivered",
         "2025-09-03T09:13:00.000Z"
        ],
        [
         111,
         "C009",
         "Meera",
         "R002",
         "Domino's Pizza",
         "D002",
         "Suresh",
         485.89,
         58,
         "Delivered",
         "2025-09-01T16:08:00.000Z"
        ],
        [
         112,
         "C001",
         "Rahul",
         "R001",
         "McDonald's",
         "D001",
         "Deepak",
         341.67,
         25,
         "Delivered",
         "2025-09-02T05:38:00.000Z"
        ],
        [
         113,
         "C011",
         "Ravi",
         "R004",
         "McDonald's",
         "D002",
         "Manoj",
         985.03,
         49,
         "Delivered",
         "2025-09-01T15:02:00.000Z"
        ],
        [
         114,
         "C001",
         "Ravi",
         "R002",
         "McDonald's",
         "D005",
         "Suresh",
         819.85,
         32,
         "Delivered",
         "2025-09-03T06:18:00.000Z"
        ],
        [
         115,
         "C006",
         "Akash",
         "R003",
         "McDonald's",
         "D006",
         "Deepak",
         333.68,
         50,
         "Delivered",
         "2025-09-03T01:12:00.000Z"
        ],
        [
         116,
         "C012",
         "Meera",
         "R004",
         "KFC",
         "D002",
         "Deepak",
         507.39,
         29,
         "Delivered",
         "2025-09-01T11:58:00.000Z"
        ],
        [
         117,
         "C015",
         "Meera",
         "R001",
         "McDonald's",
         "D005",
         "Suresh",
         494.22,
         22,
         "Delivered",
         "2025-09-01T13:12:00.000Z"
        ],
        [
         118,
         "C008",
         "Sneha",
         "R005",
         "Domino's Pizza",
         "D004",
         "Deepak",
         297.73,
         31,
         "Delivered",
         "2025-09-03T06:30:00.000Z"
        ],
        [
         119,
         "C010",
         "Kiran",
         "R004",
         "KFC",
         "D001",
         "Ankit",
         489.02,
         44,
         "Delivered",
         "2025-09-02T16:06:00.000Z"
        ],
        [
         120,
         "C010",
         "Ananya",
         "R003",
         "McDonald's",
         "D005",
         "Deepak",
         663.98,
         46,
         "Delivered",
         "2025-09-02T16:43:00.000Z"
        ],
        [
         121,
         "C007",
         "Priya",
         "R002",
         "McDonald's",
         "D002",
         "Vivek",
         662.4,
         52,
         "Delivered",
         "2025-09-01T11:41:00.000Z"
        ],
        [
         122,
         "C014",
         "Kiran",
         "R003",
         "KFC",
         "D002",
         "Ramesh",
         842.12,
         43,
         "Delivered",
         "2025-09-01T10:45:00.000Z"
        ],
        [
         123,
         "C012",
         "Meera",
         "R003",
         "Domino's Pizza",
         "D002",
         "Ramesh",
         593.46,
         20,
         "Delivered",
         "2025-09-01T18:14:00.000Z"
        ],
        [
         124,
         "C002",
         "Sneha",
         "R002",
         "Domino's Pizza",
         "D003",
         "Suresh",
         965.29,
         39,
         "Delivered",
         "2025-09-01T12:51:00.000Z"
        ],
        [
         125,
         "C014",
         "Ananya",
         "R005",
         "KFC",
         "D004",
         "Deepak",
         996.88,
         22,
         "Delivered",
         "2025-09-02T19:43:00.000Z"
        ],
        [
         126,
         "C002",
         "Ravi",
         "R005",
         "Domino's Pizza",
         "D005",
         "Ankit",
         234.94,
         41,
         "Delivered",
         "2025-09-03T00:11:00.000Z"
        ],
        [
         127,
         "C013",
         "Rahul",
         "R001",
         "Subway",
         "D001",
         "Deepak",
         227.31,
         43,
         "Delivered",
         "2025-09-02T09:37:00.000Z"
        ],
        [
         128,
         "C005",
         "Sneha",
         "R004",
         "McDonald's",
         "D004",
         "Vivek",
         788.62,
         31,
         "Delivered",
         "2025-09-03T04:44:00.000Z"
        ],
        [
         129,
         "C015",
         "Akash",
         "R002",
         "Subway",
         "D001",
         "Vivek",
         864.25,
         35,
         "Delivered",
         "2025-09-02T13:56:00.000Z"
        ],
        [
         130,
         "C014",
         "Vikas",
         "R003",
         "McDonald's",
         "D005",
         "Vivek",
         390.95,
         41,
         "Delivered",
         "2025-09-02T03:46:00.000Z"
        ],
        [
         131,
         "C009",
         "Vikas",
         "R002",
         "Subway",
         "D004",
         "Vivek",
         199.45,
         55,
         "Delivered",
         "2025-09-03T06:08:00.000Z"
        ],
        [
         132,
         "C008",
         "Sneha",
         "R001",
         "Subway",
         "D006",
         "Ankit",
         898.96,
         0,
         "Cancelled",
         "2025-09-03T10:42:00.000Z"
        ],
        [
         133,
         "C003",
         "Ravi",
         "R005",
         "Burger King",
         "D004",
         "Deepak",
         763.96,
         48,
         "Delivered",
         "2025-09-02T18:34:00.000Z"
        ],
        [
         134,
         "C011",
         "Vikas",
         "R001",
         "Burger King",
         "D003",
         "Deepak",
         841.81,
         47,
         "Delivered",
         "2025-09-03T11:38:00.000Z"
        ],
        [
         135,
         "C018",
         "Akash",
         "R005",
         "Burger King",
         "D005",
         "Ankit",
         185.1,
         50,
         "Delivered",
         "2025-09-02T14:17:00.000Z"
        ],
        [
         136,
         "C020",
         "Ravi",
         "R001",
         "Subway",
         "D004",
         "Manoj",
         689.03,
         44,
         "Delivered",
         "2025-09-01T22:04:00.000Z"
        ],
        [
         137,
         "C020",
         "Vikas",
         "R005",
         "KFC",
         "D004",
         "Manoj",
         474.84,
         51,
         "Delivered",
         "2025-09-02T03:25:00.000Z"
        ],
        [
         138,
         "C013",
         "Ananya",
         "R005",
         "Subway",
         "D003",
         "Ramesh",
         882.39,
         46,
         "Delivered",
         "2025-09-03T03:08:00.000Z"
        ],
        [
         139,
         "C019",
         "Priya",
         "R005",
         "KFC",
         "D004",
         "Ankit",
         534.51,
         46,
         "Delivered",
         "2025-09-02T13:26:00.000Z"
        ],
        [
         140,
         "C019",
         "Rahul",
         "R003",
         "Subway",
         "D004",
         "Manoj",
         393.02,
         56,
         "Delivered",
         "2025-09-01T17:22:00.000Z"
        ],
        [
         141,
         "C014",
         "Ananya",
         "R004",
         "Domino's Pizza",
         "D002",
         "Suresh",
         369.01,
         57,
         "Delivered",
         "2025-09-02T07:54:00.000Z"
        ],
        [
         142,
         "C019",
         "Kiran",
         "R004",
         "McDonald's",
         "D003",
         "Suresh",
         622.72,
         57,
         "Delivered",
         "2025-09-03T10:19:00.000Z"
        ],
        [
         143,
         "C020",
         "Akash",
         "R002",
         "McDonald's",
         "D002",
         "Ramesh",
         722.91,
         0,
         "Cancelled",
         "2025-09-03T07:57:00.000Z"
        ],
        [
         144,
         "C003",
         "Ravi",
         "R005",
         "Domino's Pizza",
         "D004",
         "Suresh",
         369.05,
         55,
         "Delivered",
         "2025-09-02T19:39:00.000Z"
        ],
        [
         145,
         "C001",
         "Pooja",
         "R005",
         "Domino's Pizza",
         "D002",
         "Deepak",
         268.19,
         45,
         "Delivered",
         "2025-09-03T02:23:00.000Z"
        ],
        [
         146,
         "C004",
         "Sneha",
         "R002",
         "KFC",
         "D006",
         "Ramesh",
         775.71,
         36,
         "Delivered",
         "2025-09-02T23:08:00.000Z"
        ],
        [
         147,
         "C013",
         "Akash",
         "R003",
         "Subway",
         "D004",
         "Ankit",
         991.47,
         31,
         "Delivered",
         "2025-09-03T00:49:00.000Z"
        ],
        [
         148,
         "C010",
         "Meera",
         "R004",
         "Burger King",
         "D006",
         "Ankit",
         372.01,
         26,
         "Delivered",
         "2025-09-01T15:44:00.000Z"
        ],
        [
         149,
         "C009",
         "Vikas",
         "R004",
         "Subway",
         "D005",
         "Deepak",
         323.79,
         42,
         "Delivered",
         "2025-09-02T09:31:00.000Z"
        ],
        [
         150,
         "C006",
         "Meera",
         "R004",
         "Burger King",
         "D006",
         "Manoj",
         155.22,
         59,
         "Delivered",
         "2025-09-03T04:22:00.000Z"
        ]
       ],
       "datasetInfos": [
        {
         "name": "_sqldf",
         "schema": {
          "fields": [
           {
            "metadata": {},
            "name": "order_id",
            "nullable": true,
            "type": "long"
           },
           {
            "metadata": {},
            "name": "customer_id",
            "nullable": true,
            "type": "string"
           },
           {
            "metadata": {},
            "name": "customer_name",
            "nullable": true,
            "type": "string"
           },
           {
            "metadata": {},
            "name": "restaurant_id",
            "nullable": true,
            "type": "string"
           },
           {
            "metadata": {},
            "name": "restaurant_name",
            "nullable": true,
            "type": "string"
           },
           {
            "metadata": {},
            "name": "delivery_partner_id",
            "nullable": true,
            "type": "string"
           },
           {
            "metadata": {},
            "name": "delivery_partner_name",
            "nullable": true,
            "type": "string"
           },
           {
            "metadata": {},
            "name": "order_value",
            "nullable": true,
            "type": "double"
           },
           {
            "metadata": {},
            "name": "delivery_time",
            "nullable": true,
            "type": "long"
           },
           {
            "metadata": {},
            "name": "order_status",
            "nullable": true,
            "type": "string"
           },
           {
            "metadata": {},
            "name": "timestamp",
            "nullable": true,
            "type": "timestamp"
           }
          ],
          "type": "struct"
         },
         "tableIdentifier": null,
         "typeStr": "pyspark.sql.connect.dataframe.DataFrame"
        }
       ],
       "dbfsResultPath": null,
       "isJsonSchema": true,
       "metadata": {
        "createTempViewForImplicitDf": true,
        "dataframeName": "_sqldf",
        "executionCount": 3
       },
       "overflow": false,
       "plotOptions": {
        "customPlotOptions": {},
        "displayType": "table",
        "pivotAggregation": null,
        "pivotColumns": null,
        "xColumns": null,
        "yColumns": null
       },
       "removedWidgets": [],
       "schema": [
        {
         "metadata": "{}",
         "name": "order_id",
         "type": "\"long\""
        },
        {
         "metadata": "{}",
         "name": "customer_id",
         "type": "\"string\""
        },
        {
         "metadata": "{}",
         "name": "customer_name",
         "type": "\"string\""
        },
        {
         "metadata": "{}",
         "name": "restaurant_id",
         "type": "\"string\""
        },
        {
         "metadata": "{}",
         "name": "restaurant_name",
         "type": "\"string\""
        },
        {
         "metadata": "{}",
         "name": "delivery_partner_id",
         "type": "\"string\""
        },
        {
         "metadata": "{}",
         "name": "delivery_partner_name",
         "type": "\"string\""
        },
        {
         "metadata": "{}",
         "name": "order_value",
         "type": "\"double\""
        },
        {
         "metadata": "{}",
         "name": "delivery_time",
         "type": "\"long\""
        },
        {
         "metadata": "{}",
         "name": "order_status",
         "type": "\"string\""
        },
        {
         "metadata": "{}",
         "name": "timestamp",
         "type": "\"timestamp\""
        }
       ],
       "type": "table"
      }
     },
     "output_type": "display_data"
    }
   ],
   "source": [
    "%sql\n",
    "SELECT * FROM `workspace`.`default`.`food_delivery_data`;"
   ]
  },
  {
   "cell_type": "code",
   "execution_count": 0,
   "metadata": {
    "application/vnd.databricks.v1+cell": {
     "cellMetadata": {
      "byteLimit": 2048000,
      "implicitDf": true,
      "rowLimit": 10000
     },
     "inputWidgets": {},
     "nuid": "db51b603-5085-4e66-b7c3-e9098ef7f138",
     "showTitle": false,
     "tableResultSettingsMap": {},
     "title": ""
    }
   },
   "outputs": [
    {
     "output_type": "display_data",
     "data": {
      "text/html": [
       "<style scoped>\n",
       "  .table-result-container {\n",
       "    max-height: 300px;\n",
       "    overflow: auto;\n",
       "  }\n",
       "  table, th, td {\n",
       "    border: 1px solid black;\n",
       "    border-collapse: collapse;\n",
       "  }\n",
       "  th, td {\n",
       "    padding: 5px;\n",
       "  }\n",
       "  th {\n",
       "    text-align: left;\n",
       "  }\n",
       "</style><div class='table-result-container'><table class='table-result'><thead style='background-color: white'><tr><th>customer_id</th><th>customer_name</th><th>total_order_value</th></tr></thead><tbody><tr><td>C014</td><td>Ananya</td><td>1365.8899999999999</td></tr><tr><td>C009</td><td>Vikas</td><td>1232.71</td></tr><tr><td>C008</td><td>Sneha</td><td>1196.69</td></tr><tr><td>C005</td><td>Vikas</td><td>1163.45</td></tr><tr><td>C003</td><td>Ravi</td><td>1133.01</td></tr><tr><td>C012</td><td>Meera</td><td>1100.85</td></tr><tr><td>C013</td><td>Akash</td><td>991.47</td></tr><tr><td>C011</td><td>Ravi</td><td>985.03</td></tr><tr><td>C002</td><td>Sneha</td><td>965.29</td></tr><tr><td>C013</td><td>Ananya</td><td>882.39</td></tr><tr><td>C019</td><td>Rahul</td><td>880.47</td></tr><tr><td>C015</td><td>Akash</td><td>864.25</td></tr><tr><td>C014</td><td>Kiran</td><td>842.12</td></tr><tr><td>C011</td><td>Vikas</td><td>841.81</td></tr><tr><td>C001</td><td>Ravi</td><td>819.85</td></tr><tr><td>C005</td><td>Sneha</td><td>788.62</td></tr><tr><td>C012</td><td>Akash</td><td>783.12</td></tr><tr><td>C014</td><td>Sneha</td><td>778.68</td></tr><tr><td>C004</td><td>Sneha</td><td>775.71</td></tr><tr><td>C020</td><td>Akash</td><td>722.91</td></tr><tr><td>C020</td><td>Ravi</td><td>689.03</td></tr><tr><td>C010</td><td>Ananya</td><td>663.98</td></tr><tr><td>C007</td><td>Priya</td><td>662.4</td></tr><tr><td>C019</td><td>Kiran</td><td>622.72</td></tr><tr><td>C019</td><td>Priya</td><td>534.51</td></tr><tr><td>C015</td><td>Meera</td><td>494.22</td></tr><tr><td>C010</td><td>Kiran</td><td>489.02</td></tr><tr><td>C009</td><td>Meera</td><td>485.89</td></tr><tr><td>C020</td><td>Vikas</td><td>474.84</td></tr><tr><td>C014</td><td>Pooja</td><td>423.29</td></tr><tr><td>C014</td><td>Vikas</td><td>390.95</td></tr><tr><td>C014</td><td>Priya</td><td>374.36</td></tr><tr><td>C010</td><td>Meera</td><td>372.01</td></tr><tr><td>C001</td><td>Rahul</td><td>341.67</td></tr><tr><td>C006</td><td>Akash</td><td>333.68</td></tr><tr><td>C001</td><td>Pooja</td><td>268.19</td></tr><tr><td>C002</td><td>Ravi</td><td>234.94</td></tr><tr><td>C013</td><td>Rahul</td><td>227.31</td></tr><tr><td>C007</td><td>Akash</td><td>202.94</td></tr><tr><td>C018</td><td>Akash</td><td>185.1</td></tr><tr><td>C001</td><td>Priya</td><td>166.87</td></tr><tr><td>C006</td><td>Meera</td><td>155.22</td></tr></tbody></table></div>"
      ]
     },
     "metadata": {
      "application/vnd.databricks.v1+output": {
       "addedWidgets": {},
       "aggData": [],
       "aggError": "",
       "aggOverflow": false,
       "aggSchema": [],
       "aggSeriesLimitReached": false,
       "aggType": "",
       "arguments": {},
       "columnCustomDisplayInfos": {},
       "data": [
        [
         "C014",
         "Ananya",
         1365.8899999999999
        ],
        [
         "C009",
         "Vikas",
         1232.71
        ],
        [
         "C008",
         "Sneha",
         1196.69
        ],
        [
         "C005",
         "Vikas",
         1163.45
        ],
        [
         "C003",
         "Ravi",
         1133.01
        ],
        [
         "C012",
         "Meera",
         1100.85
        ],
        [
         "C013",
         "Akash",
         991.47
        ],
        [
         "C011",
         "Ravi",
         985.03
        ],
        [
         "C002",
         "Sneha",
         965.29
        ],
        [
         "C013",
         "Ananya",
         882.39
        ],
        [
         "C019",
         "Rahul",
         880.47
        ],
        [
         "C015",
         "Akash",
         864.25
        ],
        [
         "C014",
         "Kiran",
         842.12
        ],
        [
         "C011",
         "Vikas",
         841.81
        ],
        [
         "C001",
         "Ravi",
         819.85
        ],
        [
         "C005",
         "Sneha",
         788.62
        ],
        [
         "C012",
         "Akash",
         783.12
        ],
        [
         "C014",
         "Sneha",
         778.68
        ],
        [
         "C004",
         "Sneha",
         775.71
        ],
        [
         "C020",
         "Akash",
         722.91
        ],
        [
         "C020",
         "Ravi",
         689.03
        ],
        [
         "C010",
         "Ananya",
         663.98
        ],
        [
         "C007",
         "Priya",
         662.4
        ],
        [
         "C019",
         "Kiran",
         622.72
        ],
        [
         "C019",
         "Priya",
         534.51
        ],
        [
         "C015",
         "Meera",
         494.22
        ],
        [
         "C010",
         "Kiran",
         489.02
        ],
        [
         "C009",
         "Meera",
         485.89
        ],
        [
         "C020",
         "Vikas",
         474.84
        ],
        [
         "C014",
         "Pooja",
         423.29
        ],
        [
         "C014",
         "Vikas",
         390.95
        ],
        [
         "C014",
         "Priya",
         374.36
        ],
        [
         "C010",
         "Meera",
         372.01
        ],
        [
         "C001",
         "Rahul",
         341.67
        ],
        [
         "C006",
         "Akash",
         333.68
        ],
        [
         "C001",
         "Pooja",
         268.19
        ],
        [
         "C002",
         "Ravi",
         234.94
        ],
        [
         "C013",
         "Rahul",
         227.31
        ],
        [
         "C007",
         "Akash",
         202.94
        ],
        [
         "C018",
         "Akash",
         185.1
        ],
        [
         "C001",
         "Priya",
         166.87
        ],
        [
         "C006",
         "Meera",
         155.22
        ]
       ],
       "datasetInfos": [
        {
         "name": "_sqldf",
         "schema": {
          "fields": [
           {
            "metadata": {},
            "name": "customer_id",
            "nullable": true,
            "type": "string"
           },
           {
            "metadata": {},
            "name": "customer_name",
            "nullable": true,
            "type": "string"
           },
           {
            "metadata": {},
            "name": "total_order_value",
            "nullable": true,
            "type": "double"
           }
          ],
          "type": "struct"
         },
         "tableIdentifier": null,
         "typeStr": "pyspark.sql.connect.dataframe.DataFrame"
        }
       ],
       "dbfsResultPath": null,
       "isJsonSchema": true,
       "metadata": {
        "createTempViewForImplicitDf": true,
        "dataframeName": "_sqldf",
        "executionCount": 16
       },
       "overflow": false,
       "plotOptions": {
        "customPlotOptions": {},
        "displayType": "table",
        "pivotAggregation": null,
        "pivotColumns": null,
        "xColumns": null,
        "yColumns": null
       },
       "removedWidgets": [],
       "schema": [
        {
         "metadata": "{}",
         "name": "customer_id",
         "type": "\"string\""
        },
        {
         "metadata": "{}",
         "name": "customer_name",
         "type": "\"string\""
        },
        {
         "metadata": "{}",
         "name": "total_order_value",
         "type": "\"double\""
        }
       ],
       "type": "table"
      }
     },
     "output_type": "display_data"
    },
    {
     "output_type": "display_data",
     "data": {
      "text/plain": [
       "Databricks visualization. Run in Databricks to view."
      ]
     },
     "metadata": {
      "application/vnd.databricks.v1.subcommand+json": {
       "baseErrorDetails": null,
       "bindings": {},
       "collapsed": false,
       "command": "%sql WITH q AS (SELECT \n    customer_id,\n    customer_name,\n    SUM(order_value) AS total_order_value\nFROM `workspace`.`default`.`food_delivery_data`\nGROUP BY customer_id, customer_name\nORDER BY total_order_value DESC) SELECT `customer_id`,`customer_name`,SUM(`total_order_value`) `column_499f8dec261` FROM q GROUP BY `customer_id`,`customer_name`",
       "commandTitle": "Visualization 1",
       "commandType": "auto",
       "commandVersion": 0,
       "commentThread": [],
       "commentsVisible": false,
       "contentSha256Hex": null,
       "customPlotOptions": {
        "redashChart": [
         {
          "key": "type",
          "value": "CHART"
         },
         {
          "key": "options",
          "value": {
           "alignYAxesAtZero": true,
           "coefficient": 1,
           "columnConfigurationMap": {
            "series": {
             "column": "customer_name",
             "id": "column_499f8dec260"
            },
            "x": {
             "column": "customer_id",
             "id": "column_499f8dec259"
            },
            "y": [
             {
              "column": "total_order_value",
              "id": "column_499f8dec261",
              "transform": "SUM"
             }
            ]
           },
           "dateTimeFormat": "DD/MM/YYYY HH:mm",
           "direction": {
            "type": "counterclockwise"
           },
           "error_y": {
            "type": "data",
            "visible": true
           },
           "globalSeriesType": "column",
           "legend": {
            "traceorder": "normal"
           },
           "missingValuesAsZero": true,
           "numberFormat": "0,0.[00000]",
           "percentFormat": "0[.]00%",
           "series": {
            "error_y": {
             "type": "data",
             "visible": true
            },
            "stacking": "stack"
           },
           "seriesOptions": {
            "column_499f8dec261": {
             "name": "total_order_value",
             "yAxis": 0
            }
           },
           "showDataLabels": false,
           "sizemode": "diameter",
           "sortX": true,
           "sortY": true,
           "swappedAxes": true,
           "textFormat": "",
           "useAggregationsUi": true,
           "valuesOptions": {},
           "version": 2,
           "xAxis": {
            "labels": {
             "enabled": true
            },
            "type": "-"
           },
           "yAxis": [
            {
             "type": "-"
            },
            {
             "opposite": true,
             "type": "-"
            }
           ]
          }
         }
        ]
       },
       "datasetPreviewNameToCmdIdMap": {},
       "diffDeletes": [],
       "diffInserts": [],
       "displayType": "redashChart",
       "error": null,
       "errorDetails": null,
       "errorSummary": null,
       "errorTraceType": null,
       "finishTime": 0,
       "globalVars": {},
       "guid": "",
       "height": "auto",
       "hideCommandCode": false,
       "hideCommandResult": false,
       "iPythonMetadata": null,
       "inputWidgets": {},
       "isLockedInExamMode": false,
       "latestUser": "a user",
       "latestUserId": null,
       "listResultMetadata": null,
       "metadata": {},
       "nuid": "62a80449-0539-4e9e-bace-255e7bd275f0",
       "origId": 0,
       "parentHierarchy": [],
       "pivotAggregation": null,
       "pivotColumns": null,
       "position": 3.0,
       "resultDbfsErrorMessage": null,
       "resultDbfsStatus": "INLINED_IN_TREE",
       "results": null,
       "showCommandTitle": false,
       "startTime": 0,
       "state": "input",
       "streamStates": {},
       "subcommandOptions": {
        "queryPlan": {
         "groups": [
          {
           "column": "customer_id",
           "type": "column"
          },
          {
           "column": "customer_name",
           "type": "column"
          }
         ],
         "selects": [
          {
           "column": "customer_id",
           "type": "column"
          },
          {
           "column": "customer_name",
           "type": "column"
          },
          {
           "alias": "column_499f8dec261",
           "args": [
            {
             "column": "total_order_value",
             "type": "column"
            }
           ],
           "function": "SUM",
           "type": "function"
          }
         ]
        }
       },
       "submitTime": 0,
       "subtype": "tableResultSubCmd.visualization",
       "tableResultIndex": 0,
       "tableResultSettingsMap": {},
       "useConsistentColors": false,
       "version": "CommandV1",
       "width": "auto",
       "workflows": [],
       "xColumns": null,
       "yColumns": null
      }
     },
     "output_type": "display_data"
    }
   ],
   "source": [
    "%sql\n",
    "SELECT \n",
    "    customer_id,\n",
    "    customer_name,\n",
    "    SUM(order_value) AS total_order_value\n",
    "FROM `workspace`.`default`.`food_delivery_data`\n",
    "GROUP BY customer_id, customer_name\n",
    "ORDER BY total_order_value DESC;\n",
    "\n",
    "\n"
   ]
  },
  {
   "cell_type": "code",
   "execution_count": 0,
   "metadata": {
    "application/vnd.databricks.v1+cell": {
     "cellMetadata": {
      "byteLimit": 2048000,
      "implicitDf": true,
      "rowLimit": 10000
     },
     "inputWidgets": {},
     "nuid": "4308e7a1-7584-4138-aa37-6f0564b249f6",
     "showTitle": false,
     "tableResultSettingsMap": {},
     "title": ""
    }
   },
   "outputs": [
    {
     "output_type": "display_data",
     "data": {
      "text/html": [
       "<style scoped>\n",
       "  .table-result-container {\n",
       "    max-height: 300px;\n",
       "    overflow: auto;\n",
       "  }\n",
       "  table, th, td {\n",
       "    border: 1px solid black;\n",
       "    border-collapse: collapse;\n",
       "  }\n",
       "  th, td {\n",
       "    padding: 5px;\n",
       "  }\n",
       "  th {\n",
       "    text-align: left;\n",
       "  }\n",
       "</style><div class='table-result-container'><table class='table-result'><thead style='background-color: white'><tr><th>restaurant_id</th><th>restaurant_name</th><th>avg_delivery_time</th></tr></thead><tbody><tr><td>R001</td><td>McDonald's</td><td>23.5</td></tr><tr><td>R001</td><td>Subway</td><td>29.0</td></tr><tr><td>R002</td><td>McDonald's</td><td>30.5</td></tr><tr><td>R004</td><td>McDonald's</td><td>31.8</td></tr><tr><td>R002</td><td>KFC</td><td>36.0</td></tr><tr><td>R004</td><td>KFC</td><td>36.5</td></tr><tr><td>R003</td><td>Domino's Pizza</td><td>39.5</td></tr><tr><td>R005</td><td>KFC</td><td>39.67</td></tr><tr><td>R003</td><td>Subway</td><td>41.25</td></tr><tr><td>R004</td><td>Subway</td><td>42.0</td></tr><tr><td>R005</td><td>Domino's Pizza</td><td>43.0</td></tr><tr><td>R005</td><td>Subway</td><td>43.0</td></tr><tr><td>R002</td><td>Subway</td><td>45.0</td></tr><tr><td>R003</td><td>McDonald's</td><td>45.67</td></tr><tr><td>R004</td><td>Burger King</td><td>47.0</td></tr><tr><td>R002</td><td>Domino's Pizza</td><td>48.5</td></tr><tr><td>R005</td><td>Burger King</td><td>49.0</td></tr><tr><td>R001</td><td>Burger King</td><td>49.0</td></tr><tr><td>R003</td><td>KFC</td><td>50.0</td></tr><tr><td>R004</td><td>Domino's Pizza</td><td>57.0</td></tr></tbody></table></div>"
      ]
     },
     "metadata": {
      "application/vnd.databricks.v1+output": {
       "addedWidgets": {},
       "aggData": [],
       "aggError": "",
       "aggOverflow": false,
       "aggSchema": [],
       "aggSeriesLimitReached": false,
       "aggType": "",
       "arguments": {},
       "columnCustomDisplayInfos": {},
       "data": [
        [
         "R001",
         "McDonald's",
         23.5
        ],
        [
         "R001",
         "Subway",
         29.0
        ],
        [
         "R002",
         "McDonald's",
         30.5
        ],
        [
         "R004",
         "McDonald's",
         31.8
        ],
        [
         "R002",
         "KFC",
         36.0
        ],
        [
         "R004",
         "KFC",
         36.5
        ],
        [
         "R003",
         "Domino's Pizza",
         39.5
        ],
        [
         "R005",
         "KFC",
         39.67
        ],
        [
         "R003",
         "Subway",
         41.25
        ],
        [
         "R004",
         "Subway",
         42.0
        ],
        [
         "R005",
         "Domino's Pizza",
         43.0
        ],
        [
         "R005",
         "Subway",
         43.0
        ],
        [
         "R002",
         "Subway",
         45.0
        ],
        [
         "R003",
         "McDonald's",
         45.67
        ],
        [
         "R004",
         "Burger King",
         47.0
        ],
        [
         "R002",
         "Domino's Pizza",
         48.5
        ],
        [
         "R005",
         "Burger King",
         49.0
        ],
        [
         "R001",
         "Burger King",
         49.0
        ],
        [
         "R003",
         "KFC",
         50.0
        ],
        [
         "R004",
         "Domino's Pizza",
         57.0
        ]
       ],
       "datasetInfos": [
        {
         "name": "_sqldf",
         "schema": {
          "fields": [
           {
            "metadata": {},
            "name": "restaurant_id",
            "nullable": true,
            "type": "string"
           },
           {
            "metadata": {},
            "name": "restaurant_name",
            "nullable": true,
            "type": "string"
           },
           {
            "metadata": {},
            "name": "avg_delivery_time",
            "nullable": true,
            "type": "double"
           }
          ],
          "type": "struct"
         },
         "tableIdentifier": null,
         "typeStr": "pyspark.sql.connect.dataframe.DataFrame"
        }
       ],
       "dbfsResultPath": null,
       "isJsonSchema": true,
       "metadata": {
        "createTempViewForImplicitDf": true,
        "dataframeName": "_sqldf",
        "executionCount": 18
       },
       "overflow": false,
       "plotOptions": {
        "customPlotOptions": {},
        "displayType": "table",
        "pivotAggregation": null,
        "pivotColumns": null,
        "xColumns": null,
        "yColumns": null
       },
       "removedWidgets": [],
       "schema": [
        {
         "metadata": "{}",
         "name": "restaurant_id",
         "type": "\"string\""
        },
        {
         "metadata": "{}",
         "name": "restaurant_name",
         "type": "\"string\""
        },
        {
         "metadata": "{}",
         "name": "avg_delivery_time",
         "type": "\"double\""
        }
       ],
       "type": "table"
      }
     },
     "output_type": "display_data"
    },
    {
     "output_type": "display_data",
     "data": {
      "text/plain": [
       "Databricks visualization. Run in Databricks to view."
      ]
     },
     "metadata": {
      "application/vnd.databricks.v1.subcommand+json": {
       "baseErrorDetails": null,
       "bindings": {},
       "collapsed": false,
       "command": "%sql WITH q AS (SELECT \n    restaurant_id,\n    restaurant_name,\n    ROUND(AVG(delivery_time), 2) AS avg_delivery_time\nFROM `workspace`.`default`.`food_delivery_data`\nGROUP BY restaurant_id, restaurant_name\nORDER BY avg_delivery_time ASC) SELECT `restaurant_id`,`restaurant_name`,SUM(`avg_delivery_time`) `column_499f8dec266` FROM q GROUP BY `restaurant_id`,`restaurant_name`",
       "commandTitle": "Visualization 1",
       "commandType": "auto",
       "commandVersion": 0,
       "commentThread": [],
       "commentsVisible": false,
       "contentSha256Hex": null,
       "customPlotOptions": {
        "redashChart": [
         {
          "key": "type",
          "value": "CHART"
         },
         {
          "key": "options",
          "value": {
           "alignYAxesAtZero": true,
           "coefficient": 1,
           "columnConfigurationMap": {
            "series": {
             "column": "restaurant_name",
             "id": "column_499f8dec265"
            },
            "x": {
             "column": "restaurant_id",
             "id": "column_499f8dec264"
            },
            "y": [
             {
              "column": "avg_delivery_time",
              "id": "column_499f8dec266",
              "transform": "SUM"
             }
            ]
           },
           "dateTimeFormat": "DD/MM/YYYY HH:mm",
           "direction": {
            "type": "counterclockwise"
           },
           "error_y": {
            "type": "data",
            "visible": true
           },
           "globalSeriesType": "column",
           "legend": {
            "traceorder": "normal"
           },
           "missingValuesAsZero": true,
           "numberFormat": "0,0.[00000]",
           "percentFormat": "0[.]00%",
           "series": {
            "error_y": {
             "type": "data",
             "visible": true
            },
            "stacking": "stack"
           },
           "seriesOptions": {
            "column_499f8dec266": {
             "name": "avg_delivery_time",
             "yAxis": 0
            }
           },
           "showDataLabels": false,
           "sizemode": "diameter",
           "sortX": true,
           "sortY": true,
           "swappedAxes": true,
           "textFormat": "",
           "useAggregationsUi": true,
           "valuesOptions": {},
           "version": 2,
           "xAxis": {
            "labels": {
             "enabled": true
            },
            "type": "-"
           },
           "yAxis": [
            {
             "type": "-"
            },
            {
             "opposite": true,
             "type": "-"
            }
           ]
          }
         }
        ]
       },
       "datasetPreviewNameToCmdIdMap": {},
       "diffDeletes": [],
       "diffInserts": [],
       "displayType": "redashChart",
       "error": null,
       "errorDetails": null,
       "errorSummary": null,
       "errorTraceType": null,
       "finishTime": 0,
       "globalVars": {},
       "guid": "",
       "height": "auto",
       "hideCommandCode": false,
       "hideCommandResult": false,
       "iPythonMetadata": null,
       "inputWidgets": {},
       "isLockedInExamMode": false,
       "latestUser": "a user",
       "latestUserId": null,
       "listResultMetadata": null,
       "metadata": {},
       "nuid": "a3671253-3d90-441b-97ad-430da6c12051",
       "origId": 0,
       "parentHierarchy": [],
       "pivotAggregation": null,
       "pivotColumns": null,
       "position": 4.0,
       "resultDbfsErrorMessage": null,
       "resultDbfsStatus": "INLINED_IN_TREE",
       "results": null,
       "showCommandTitle": false,
       "startTime": 0,
       "state": "input",
       "streamStates": {},
       "subcommandOptions": {
        "queryPlan": {
         "groups": [
          {
           "column": "restaurant_id",
           "type": "column"
          },
          {
           "column": "restaurant_name",
           "type": "column"
          }
         ],
         "selects": [
          {
           "column": "restaurant_id",
           "type": "column"
          },
          {
           "column": "restaurant_name",
           "type": "column"
          },
          {
           "alias": "column_499f8dec266",
           "args": [
            {
             "column": "avg_delivery_time",
             "type": "column"
            }
           ],
           "function": "SUM",
           "type": "function"
          }
         ]
        }
       },
       "submitTime": 0,
       "subtype": "tableResultSubCmd.visualization",
       "tableResultIndex": 0,
       "tableResultSettingsMap": {},
       "useConsistentColors": false,
       "version": "CommandV1",
       "width": "auto",
       "workflows": [],
       "xColumns": null,
       "yColumns": null
      }
     },
     "output_type": "display_data"
    }
   ],
   "source": [
    "%sql\n",
    "SELECT \n",
    "    restaurant_id,\n",
    "    restaurant_name,\n",
    "    ROUND(AVG(delivery_time), 2) AS avg_delivery_time\n",
    "FROM `workspace`.`default`.`food_delivery_data`\n",
    "GROUP BY restaurant_id, restaurant_name\n",
    "ORDER BY avg_delivery_time ASC;\n"
   ]
  },
  {
   "cell_type": "code",
   "execution_count": 0,
   "metadata": {
    "application/vnd.databricks.v1+cell": {
     "cellMetadata": {
      "byteLimit": 2048000,
      "implicitDf": true,
      "rowLimit": 10000
     },
     "inputWidgets": {},
     "nuid": "7d8bbb18-504b-41b4-bc55-da388bcf53a6",
     "showTitle": false,
     "tableResultSettingsMap": {},
     "title": ""
    }
   },
   "outputs": [
    {
     "output_type": "display_data",
     "data": {
      "text/html": [
       "<style scoped>\n",
       "  .table-result-container {\n",
       "    max-height: 300px;\n",
       "    overflow: auto;\n",
       "  }\n",
       "  table, th, td {\n",
       "    border: 1px solid black;\n",
       "    border-collapse: collapse;\n",
       "  }\n",
       "  th, td {\n",
       "    padding: 5px;\n",
       "  }\n",
       "  th {\n",
       "    text-align: left;\n",
       "  }\n",
       "</style><div class='table-result-container'><table class='table-result'><thead style='background-color: white'><tr><th>customer_id</th><th>customer_name</th><th>total_cancellations</th></tr></thead><tbody><tr><td>C009</td><td>Vikas</td><td>1</td></tr><tr><td>C008</td><td>Sneha</td><td>1</td></tr><tr><td>C020</td><td>Akash</td><td>1</td></tr></tbody></table></div>"
      ]
     },
     "metadata": {
      "application/vnd.databricks.v1+output": {
       "addedWidgets": {},
       "aggData": [],
       "aggError": "",
       "aggOverflow": false,
       "aggSchema": [],
       "aggSeriesLimitReached": false,
       "aggType": "",
       "arguments": {},
       "columnCustomDisplayInfos": {},
       "data": [
        [
         "C009",
         "Vikas",
         1
        ],
        [
         "C008",
         "Sneha",
         1
        ],
        [
         "C020",
         "Akash",
         1
        ]
       ],
       "datasetInfos": [
        {
         "name": "_sqldf",
         "schema": {
          "fields": [
           {
            "metadata": {},
            "name": "customer_id",
            "nullable": true,
            "type": "string"
           },
           {
            "metadata": {},
            "name": "customer_name",
            "nullable": true,
            "type": "string"
           },
           {
            "metadata": {},
            "name": "total_cancellations",
            "nullable": false,
            "type": "long"
           }
          ],
          "type": "struct"
         },
         "tableIdentifier": null,
         "typeStr": "pyspark.sql.connect.dataframe.DataFrame"
        }
       ],
       "dbfsResultPath": null,
       "isJsonSchema": true,
       "metadata": {
        "createTempViewForImplicitDf": true,
        "dataframeName": "_sqldf",
        "executionCount": 21
       },
       "overflow": false,
       "plotOptions": {
        "customPlotOptions": {},
        "displayType": "table",
        "pivotAggregation": null,
        "pivotColumns": null,
        "xColumns": null,
        "yColumns": null
       },
       "removedWidgets": [],
       "schema": [
        {
         "metadata": "{}",
         "name": "customer_id",
         "type": "\"string\""
        },
        {
         "metadata": "{}",
         "name": "customer_name",
         "type": "\"string\""
        },
        {
         "metadata": "{}",
         "name": "total_cancellations",
         "type": "\"long\""
        }
       ],
       "type": "table"
      }
     },
     "output_type": "display_data"
    },
    {
     "output_type": "display_data",
     "data": {
      "text/plain": [
       "Databricks visualization. Run in Databricks to view."
      ]
     },
     "metadata": {
      "application/vnd.databricks.v1.subcommand+json": {
       "baseErrorDetails": null,
       "bindings": {},
       "collapsed": false,
       "command": "%sql WITH q AS (SELECT \n    customer_id,\n    customer_name,\n    COUNT(*) AS total_cancellations\nFROM `workspace`.`default`.`food_delivery_data`\nWHERE order_status = 'Cancelled'\nGROUP BY customer_id, customer_name\nORDER BY total_cancellations DESC) SELECT `customer_id`,`customer_name`,SUM(`total_cancellations`) `column_499f8dec271` FROM q GROUP BY `customer_id`,`customer_name`",
       "commandTitle": "Visualization 1",
       "commandType": "auto",
       "commandVersion": 0,
       "commentThread": [],
       "commentsVisible": false,
       "contentSha256Hex": null,
       "customPlotOptions": {
        "redashChart": [
         {
          "key": "type",
          "value": "CHART"
         },
         {
          "key": "options",
          "value": {
           "alignYAxesAtZero": true,
           "coefficient": 1,
           "columnConfigurationMap": {
            "series": {
             "column": "customer_name",
             "id": "column_499f8dec270"
            },
            "x": {
             "column": "customer_id",
             "id": "column_499f8dec269"
            },
            "y": [
             {
              "column": "total_cancellations",
              "id": "column_499f8dec271",
              "transform": "SUM"
             }
            ]
           },
           "dateTimeFormat": "DD/MM/YYYY HH:mm",
           "direction": {
            "type": "counterclockwise"
           },
           "error_y": {
            "type": "data",
            "visible": true
           },
           "globalSeriesType": "column",
           "legend": {
            "traceorder": "normal"
           },
           "missingValuesAsZero": true,
           "numberFormat": "0,0.[00000]",
           "percentFormat": "0[.]00%",
           "series": {
            "error_y": {
             "type": "data",
             "visible": true
            },
            "stacking": "stack"
           },
           "seriesOptions": {
            "column_499f8dec271": {
             "name": "total_cancellations",
             "yAxis": 0
            }
           },
           "showDataLabels": false,
           "sizemode": "diameter",
           "sortX": true,
           "sortY": true,
           "swappedAxes": true,
           "textFormat": "",
           "useAggregationsUi": true,
           "valuesOptions": {},
           "version": 2,
           "xAxis": {
            "labels": {
             "enabled": true
            },
            "type": "-"
           },
           "yAxis": [
            {
             "type": "-"
            },
            {
             "opposite": true,
             "type": "-"
            }
           ]
          }
         }
        ]
       },
       "datasetPreviewNameToCmdIdMap": {},
       "diffDeletes": [],
       "diffInserts": [],
       "displayType": "redashChart",
       "error": null,
       "errorDetails": null,
       "errorSummary": null,
       "errorTraceType": null,
       "finishTime": 0,
       "globalVars": {},
       "guid": "",
       "height": "auto",
       "hideCommandCode": false,
       "hideCommandResult": false,
       "iPythonMetadata": null,
       "inputWidgets": {},
       "isLockedInExamMode": false,
       "latestUser": "a user",
       "latestUserId": null,
       "listResultMetadata": null,
       "metadata": {},
       "nuid": "72041566-a478-4c83-b6b5-6f54beb22989",
       "origId": 0,
       "parentHierarchy": [],
       "pivotAggregation": null,
       "pivotColumns": null,
       "position": 5.0,
       "resultDbfsErrorMessage": null,
       "resultDbfsStatus": "INLINED_IN_TREE",
       "results": null,
       "showCommandTitle": false,
       "startTime": 0,
       "state": "input",
       "streamStates": {},
       "subcommandOptions": {
        "queryPlan": {
         "groups": [
          {
           "column": "customer_id",
           "type": "column"
          },
          {
           "column": "customer_name",
           "type": "column"
          }
         ],
         "selects": [
          {
           "column": "customer_id",
           "type": "column"
          },
          {
           "column": "customer_name",
           "type": "column"
          },
          {
           "alias": "column_499f8dec271",
           "args": [
            {
             "column": "total_cancellations",
             "type": "column"
            }
           ],
           "function": "SUM",
           "type": "function"
          }
         ]
        }
       },
       "submitTime": 0,
       "subtype": "tableResultSubCmd.visualization",
       "tableResultIndex": 0,
       "tableResultSettingsMap": {},
       "useConsistentColors": false,
       "version": "CommandV1",
       "width": "auto",
       "workflows": [],
       "xColumns": null,
       "yColumns": null
      }
     },
     "output_type": "display_data"
    }
   ],
   "source": [
    "%sql\n",
    "SELECT \n",
    "    customer_id,\n",
    "    customer_name,\n",
    "    COUNT(*) AS total_cancellations\n",
    "FROM `workspace`.`default`.`food_delivery_data`\n",
    "WHERE order_status = 'Cancelled'\n",
    "GROUP BY customer_id, customer_name\n",
    "ORDER BY total_cancellations DESC;\n"
   ]
  },
  {
   "cell_type": "code",
   "execution_count": 0,
   "metadata": {
    "application/vnd.databricks.v1+cell": {
     "cellMetadata": {
      "byteLimit": 2048000,
      "implicitDf": true,
      "rowLimit": 10000
     },
     "inputWidgets": {},
     "nuid": "6676d08b-9e4c-419d-9731-52b560ccc7dc",
     "showTitle": false,
     "tableResultSettingsMap": {},
     "title": ""
    }
   },
   "outputs": [
    {
     "output_type": "display_data",
     "data": {
      "text/html": [
       "<style scoped>\n",
       "  .table-result-container {\n",
       "    max-height: 300px;\n",
       "    overflow: auto;\n",
       "  }\n",
       "  table, th, td {\n",
       "    border: 1px solid black;\n",
       "    border-collapse: collapse;\n",
       "  }\n",
       "  th, td {\n",
       "    padding: 5px;\n",
       "  }\n",
       "  th {\n",
       "    text-align: left;\n",
       "  }\n",
       "</style><div class='table-result-container'><table class='table-result'><thead style='background-color: white'><tr><th>order_hour</th><th>total_orders</th></tr></thead><tbody><tr><td>13</td><td>4</td></tr><tr><td>9</td><td>3</td></tr><tr><td>3</td><td>3</td></tr><tr><td>16</td><td>3</td></tr><tr><td>11</td><td>3</td></tr><tr><td>12</td><td>3</td></tr><tr><td>6</td><td>3</td></tr><tr><td>10</td><td>3</td></tr><tr><td>1</td><td>3</td></tr><tr><td>14</td><td>2</td></tr><tr><td>23</td><td>2</td></tr><tr><td>19</td><td>2</td></tr><tr><td>18</td><td>2</td></tr><tr><td>0</td><td>2</td></tr><tr><td>7</td><td>2</td></tr><tr><td>4</td><td>2</td></tr><tr><td>15</td><td>2</td></tr><tr><td>5</td><td>2</td></tr><tr><td>21</td><td>1</td></tr><tr><td>17</td><td>1</td></tr><tr><td>22</td><td>1</td></tr><tr><td>2</td><td>1</td></tr></tbody></table></div>"
      ]
     },
     "metadata": {
      "application/vnd.databricks.v1+output": {
       "addedWidgets": {},
       "aggData": [],
       "aggError": "",
       "aggOverflow": false,
       "aggSchema": [],
       "aggSeriesLimitReached": false,
       "aggType": "",
       "arguments": {},
       "columnCustomDisplayInfos": {},
       "data": [
        [
         13,
         4
        ],
        [
         9,
         3
        ],
        [
         3,
         3
        ],
        [
         16,
         3
        ],
        [
         11,
         3
        ],
        [
         12,
         3
        ],
        [
         6,
         3
        ],
        [
         10,
         3
        ],
        [
         1,
         3
        ],
        [
         14,
         2
        ],
        [
         23,
         2
        ],
        [
         19,
         2
        ],
        [
         18,
         2
        ],
        [
         0,
         2
        ],
        [
         7,
         2
        ],
        [
         4,
         2
        ],
        [
         15,
         2
        ],
        [
         5,
         2
        ],
        [
         21,
         1
        ],
        [
         17,
         1
        ],
        [
         22,
         1
        ],
        [
         2,
         1
        ]
       ],
       "datasetInfos": [
        {
         "name": "_sqldf",
         "schema": {
          "fields": [
           {
            "metadata": {},
            "name": "order_hour",
            "nullable": true,
            "type": "integer"
           },
           {
            "metadata": {},
            "name": "total_orders",
            "nullable": false,
            "type": "long"
           }
          ],
          "type": "struct"
         },
         "tableIdentifier": null,
         "typeStr": "pyspark.sql.connect.dataframe.DataFrame"
        }
       ],
       "dbfsResultPath": null,
       "isJsonSchema": true,
       "metadata": {
        "createTempViewForImplicitDf": true,
        "dataframeName": "_sqldf",
        "executionCount": 24
       },
       "overflow": false,
       "plotOptions": {
        "customPlotOptions": {},
        "displayType": "table",
        "pivotAggregation": null,
        "pivotColumns": null,
        "xColumns": null,
        "yColumns": null
       },
       "removedWidgets": [],
       "schema": [
        {
         "metadata": "{}",
         "name": "order_hour",
         "type": "\"integer\""
        },
        {
         "metadata": "{}",
         "name": "total_orders",
         "type": "\"long\""
        }
       ],
       "type": "table"
      }
     },
     "output_type": "display_data"
    },
    {
     "output_type": "display_data",
     "data": {
      "text/plain": [
       "Databricks visualization. Run in Databricks to view."
      ]
     },
     "metadata": {
      "application/vnd.databricks.v1.subcommand+json": {
       "baseErrorDetails": null,
       "bindings": {},
       "collapsed": false,
       "command": "%sql WITH q AS (SELECT \n    HOUR(timestamp) AS order_hour,\n    COUNT(*) AS total_orders\nFROM `workspace`.`default`.`food_delivery_data`\nGROUP BY HOUR(timestamp)\nORDER BY total_orders DESC) SELECT `order_hour`,`total_orders` FROM q",
       "commandTitle": "Visualization 1",
       "commandType": "auto",
       "commandVersion": 0,
       "commentThread": [],
       "commentsVisible": false,
       "contentSha256Hex": null,
       "customPlotOptions": {
        "redashChart": [
         {
          "key": "type",
          "value": "CHART"
         },
         {
          "key": "options",
          "value": {
           "alignYAxesAtZero": true,
           "coefficient": 1,
           "columnConfigurationMap": {
            "x": {
             "column": "order_hour",
             "id": "column_499f8dec274"
            },
            "y": [
             {
              "column": "total_orders",
              "id": "column_499f8dec275"
             }
            ]
           },
           "dateTimeFormat": "DD/MM/YYYY HH:mm",
           "direction": {
            "type": "counterclockwise"
           },
           "error_y": {
            "type": "data",
            "visible": true
           },
           "globalSeriesType": "scatter",
           "legend": {
            "traceorder": "normal"
           },
           "missingValuesAsZero": true,
           "numberFormat": "0,0.[00000]",
           "percentFormat": "0[.]00%",
           "series": {
            "error_y": {
             "type": "data",
             "visible": true
            },
            "stacking": null
           },
           "seriesOptions": {
            "column_499f8dec275": {
             "name": "total_orders",
             "yAxis": 0
            }
           },
           "showDataLabels": false,
           "sizemode": "diameter",
           "sortX": true,
           "sortY": true,
           "swappedAxes": false,
           "textFormat": "",
           "useAggregationsUi": true,
           "valuesOptions": {},
           "version": 2,
           "xAxis": {
            "labels": {
             "enabled": true
            },
            "type": "-"
           },
           "yAxis": [
            {
             "type": "-"
            },
            {
             "opposite": true,
             "type": "-"
            }
           ]
          }
         }
        ]
       },
       "datasetPreviewNameToCmdIdMap": {},
       "diffDeletes": [],
       "diffInserts": [],
       "displayType": "redashChart",
       "error": null,
       "errorDetails": null,
       "errorSummary": null,
       "errorTraceType": null,
       "finishTime": 0,
       "globalVars": {},
       "guid": "",
       "height": "auto",
       "hideCommandCode": false,
       "hideCommandResult": false,
       "iPythonMetadata": null,
       "inputWidgets": {},
       "isLockedInExamMode": false,
       "latestUser": "a user",
       "latestUserId": null,
       "listResultMetadata": null,
       "metadata": {},
       "nuid": "6c3b4ab4-b4d3-4d6d-ab3d-3bc2bfedc80e",
       "origId": 0,
       "parentHierarchy": [],
       "pivotAggregation": null,
       "pivotColumns": null,
       "position": 6.0,
       "resultDbfsErrorMessage": null,
       "resultDbfsStatus": "INLINED_IN_TREE",
       "results": null,
       "showCommandTitle": false,
       "startTime": 0,
       "state": "input",
       "streamStates": {},
       "subcommandOptions": {
        "queryPlan": {
         "selects": [
          {
           "column": "order_hour",
           "type": "column"
          },
          {
           "column": "total_orders",
           "type": "column"
          }
         ]
        }
       },
       "submitTime": 0,
       "subtype": "tableResultSubCmd.visualization",
       "tableResultIndex": 0,
       "tableResultSettingsMap": {},
       "useConsistentColors": false,
       "version": "CommandV1",
       "width": "auto",
       "workflows": [],
       "xColumns": null,
       "yColumns": null
      }
     },
     "output_type": "display_data"
    }
   ],
   "source": [
    "%sql\n",
    "SELECT \n",
    "    HOUR(timestamp) AS order_hour,\n",
    "    COUNT(*) AS total_orders\n",
    "FROM `workspace`.`default`.`food_delivery_data`\n",
    "GROUP BY HOUR(timestamp)\n",
    "ORDER BY total_orders DESC;\n"
   ]
  },
  {
   "cell_type": "code",
   "execution_count": 0,
   "metadata": {
    "application/vnd.databricks.v1+cell": {
     "cellMetadata": {},
     "inputWidgets": {},
     "nuid": "0f7ebd5b-6535-4ea9-8e5c-619bb45714a0",
     "showTitle": false,
     "tableResultSettingsMap": {},
     "title": ""
    }
   },
   "outputs": [],
   "source": []
  }
 ],
 "metadata": {
  "application/vnd.databricks.v1+notebook": {
   "computePreferences": null,
   "dashboards": [],
   "environmentMetadata": null,
   "inputWidgetPreferences": null,
   "language": "python",
   "notebookMetadata": {
    "mostRecentlyExecutedCommandWithImplicitDF": {
     "commandId": 6538666325638624,
     "dataframes": [
      "_sqldf"
     ]
    },
    "pythonIndentUnit": 2
   },
   "notebookName": "Explore workspace.default.food_delivery_data 2025-09-03 16:00:37",
   "widgets": {}
  },
  "language_info": {
   "name": "python"
  }
 },
 "nbformat": 4,
 "nbformat_minor": 0
}